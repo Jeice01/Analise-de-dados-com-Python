{
  "nbformat": 4,
  "nbformat_minor": 0,
  "metadata": {
    "colab": {
      "provenance": [],
      "authorship_tag": "ABX9TyM3T8DX7Q2nRTAMmvH2FOVm",
      "include_colab_link": true
    },
    "kernelspec": {
      "name": "python3",
      "display_name": "Python 3"
    },
    "language_info": {
      "name": "python"
    }
  },
  "cells": [
    {
      "cell_type": "markdown",
      "metadata": {
        "id": "view-in-github",
        "colab_type": "text"
      },
      "source": [
        "<a href=\"https://colab.research.google.com/github/Jeice01/Analise-de-dados-com-Python/blob/main/A_estrutura_do_html.ipynb\" target=\"_parent\"><img src=\"https://colab.research.google.com/assets/colab-badge.svg\" alt=\"Open In Colab\"/></a>"
      ]
    },
    {
      "cell_type": "markdown",
      "source": [
        "Em HTML, as **\"tags\"** são elementos fundamentais que definem a estrutura e o conteúdo de uma página web. Elas são cercadas por colchetes angulares `< >` e são compostas por uma ou mais letras, como `<tag>`. As tags podem ter *atributos* que fornecem informações adicionais sobre como a tag deve se comportar.\n",
        "\n",
        "Existem dois tipos principais de tags em HTML:\n",
        "\n",
        "1. **Tags de Abertura (`<tag>`)**: São usadas para iniciar um elemento HTML e definir suas propriedades. Por exemplo, `<p>` é a tag de abertura para um parágrafo.\n",
        "\n",
        "2. **Tags de Fechamento (`</tag>`)**: São usadas para encerrar um elemento HTML. Elas têm uma barra invertida antes do nome da tag. Por exemplo, `</p>` é a tag de fechamento para um parágrafo.\n",
        "\n",
        "Alguns elementos HTML, como as imagens, não têm uma tag de fechamento e são chamados de **\"tags vazias\"** ou **\"self-closing tags\"**. Por exemplo, `<img>` é usado para inserir imagens e não tem uma tag de fechamento.\n",
        "\n",
        "A combinação de tags de abertura e fechamento (quando aplicável) cria elementos que podem conter texto, outras tags, ou ambos. Por exemplo:\n",
        "\n",
        "```html\n",
        "<p>Este é um parágrafo de texto.</p>\n"
      ],
      "metadata": {
        "id": "7QSjzpI9YBCd"
      }
    },
    {
      "cell_type": "markdown",
      "source": [
        "# HTML"
      ],
      "metadata": {
        "id": "UqM4sov5YSW0"
      }
    },
    {
      "cell_type": "markdown",
      "source": [
        "\n",
        "\n",
        "```\n",
        "<!DOCTYPE html>\n",
        "<html lang=\"pt-br\">\n",
        "````\n",
        " Esta é uma declaração que especifica o tipo de documento que o navegador deve esperar. Neste caso, \"html\" indica que se trata de um documento HTML. Esta declaração assegura que o navegador interprete o código corretamente.\n",
        "\n",
        "\n",
        "\n",
        "```\n",
        "<html>\n",
        "```\n",
        " É a raiz de todo o documento HTML.\n",
        "\n",
        " ```\n",
        "<lang=\"pt-br\">\n",
        " ```\n",
        " Indica que o idioma do documento é Português do Brasil (pt-BR). Esta informação é útil para mecanismos de busca e tecnologias de assistência, pois ajuda a determinar a língua do conteúdo.\n"
      ],
      "metadata": {
        "id": "1T_b6EHwUjGQ"
      }
    },
    {
      "cell_type": "markdown",
      "source": [
        "# TAGS\n",
        "`<html>`\n",
        "`<head>`\n",
        "`<body>`\n",
        "`<footer>`\n",
        "\n"
      ],
      "metadata": {
        "id": "wLjRX7ZpT_FI"
      }
    },
    {
      "cell_type": "markdown",
      "source": [
        "\n",
        "\n",
        "```\n",
        "<head>\n",
        "```\n",
        "É onde você coloca informações sobre o documento e referências para recursos que ele necessita para ser renderizado corretamente. É uma parte crucial de qualquer página web.\n",
        "A tag `<head>` em HTML é uma seção que contém informações sobre o documento, como metadados, links para folhas de estilo `(CSS)`, scripts, caracteres especiais, entre outros elementos que não são diretamente visíveis na página web.\n",
        "___________________________________________\n",
        "**Meta informações:** Isso inclui coisas como a declaração do tipo de documento `(<!DOCTYPE html>)`, o conjunto de caracteres `(<meta charset=\"UTF-8\">)`, informações sobre a viewport para dispositivos móveis `(<meta name=\"viewport\" content=\"width=device-width, initial-scale=1.0\">)`, etc.\n",
        "\n",
        "**Título da Página:** É definido usando a tag `<title>`. O texto inserido aqui aparece na barra de título do navegador ou na guia da página.\n",
        "\n",
        "**Ligações para Estilos e Scripts:** Aqui você pode adicionar referências a arquivos CSS para estilizar sua página `(<link rel=\"stylesheet\" href=\"style.css\">)` e scripts JavaScript `(<script src=\"script.js\"></script>)`.\n",
        "\n",
        "**Outras Meta-Informações:** Pode incluir coisas como descrições de página, palavras-chave, autores, e outros metadados que ajudam os mecanismos de busca a entender o conteúdo da página.\n",
        "\n",
        "**Ligações para Fontes, Ícones e Outros Recursos:** Pode conter links para fontes personalizadas, ícones, e outros recursos que a página possa necessitar."
      ],
      "metadata": {
        "id": "OD91QsFhU5H2"
      }
    },
    {
      "cell_type": "markdown",
      "source": [
        "\n",
        "\n",
        "```\n",
        "<body>\n",
        "```\n",
        "\n"
      ],
      "metadata": {
        "id": "Uf0W_wJLZMWs"
      }
    },
    {
      "cell_type": "markdown",
      "source": [
        "A tag `<body>` é uma das tags fundamentais em HTML e é utilizada para definir o conteúdo principal de uma página web. Ela engloba todos os elementos visíveis para o usuário, como texto, imagens, links, listas, formulários, entre outros.\n",
        "\n",
        "- **Início e Fim da Página Visível**: A tag `<body>` marca o início do conteúdo que será efetivamente exibido no navegador. Tudo o que é colocado dentro da tag `<body>` é o que os visitantes do seu site verão na página.\n",
        "\n",
        "- **Estruturação do Conteúdo**: Dentro da tag `<body>`, você organiza o conteúdo da sua página utilizando outras tags HTML como parágrafos (`<p>`), títulos (`<h1>`, `<h2>`, etc.), listas (`<ul>`, `<ol>`, `<li>`), entre outras.\n",
        "\n",
        "- **Inclusão de Elementos Visuais**: É dentro da tag `<body>` que você insere imagens (`<img>`), links (`<a>`), vídeos (`<video>`), e qualquer outro elemento visual que queira mostrar na sua página.\n",
        "\n",
        "- **Interação com o Usuário**: Qualquer elemento que permita interação do usuário, como formulários (`<form>`) ou botões (`<button>`), deve estar dentro da tag `<body>`. Esses elementos são essenciais para criar funcionalidades interativas.\n",
        "\n",
        "Por exemplo, o código HTML abaixo demonstra uma estrutura simples usando a tag `<body>`:\n",
        "\n",
        "```html\n",
        "<!DOCTYPE html>\n",
        "<html lang=\"pt-br\">\n",
        "<head>\n",
        "    <meta charset=\"UTF-8\">\n",
        "    <title>Minha Página</title>\n",
        "</head>\n",
        "<body>\n",
        "    <h1>Meu Título</h1>\n",
        "    <p>Este é um parágrafo de texto.</p>\n",
        "    <img src=\"imagem.jpg\" alt=\"Minha Imagem\">\n",
        "    <a href=\"https://www.exemplo.com\">Link Exemplo</a>\n",
        "</body>\n",
        "</html>\n",
        "\n",
        "\n"
      ],
      "metadata": {
        "id": "rMeQ8mTdWbgP"
      }
    },
    {
      "cell_type": "markdown",
      "source": [],
      "metadata": {
        "id": "QMusvkh3ZHOM"
      }
    },
    {
      "cell_type": "markdown",
      "source": [
        "\n",
        "\n",
        "```\n",
        "<footer>\n",
        "```\n",
        "\n"
      ],
      "metadata": {
        "id": "RdcJpAxDZThT"
      }
    },
    {
      "cell_type": "markdown",
      "source": [
        "A tag `<footer>` em HTML é usada para definir a seção de rodapé de uma página web. Esta seção geralmente contém informações adicionais sobre o site, como links de contato, informações de copyright, e links para redes sociais.\n",
        "\n",
        "- **Conteúdo Adicional**: O `<footer>` é usado para incluir elementos que não são parte do conteúdo principal da página, mas fornecem informações complementares ou de navegação secundária.\n",
        "\n",
        "- **Links e Informações de Contato**: É comum incluir links para as redes sociais, endereço de e-mail de contato, endereço físico (caso aplicável) e outras informações relevantes.\n",
        "\n",
        "- **Informações de Copyright**: O rodapé muitas vezes inclui informações sobre direitos autorais e outras políticas legais relacionadas ao conteúdo do site.\n",
        "\n",
        "Exemplo de código HTML com a tag `<footer>`:\n",
        "\n",
        "```html\n",
        "<!DOCTYPE html>\n",
        "<html lang=\"pt-br\">\n",
        "<head>\n",
        "    <meta charset=\"UTF-8\">\n",
        "    <title>Minha Página</title>\n",
        "</head>\n",
        "<body>\n",
        "    <!-- Conteúdo principal da página aqui -->\n",
        "    \n",
        "    <footer>\n",
        "        <p>&copy; 2023 Minha Empresa</p>\n",
        "        <ul>\n",
        "            <li><a href=\"contato.html\">Contato</a></li>\n",
        "            <li><a href=\"sobre.html\">Sobre Nós</a></li>\n",
        "            <li><a href=\"politica.html\">Política de Privacidade</a></li>\n",
        "        </ul>\n",
        "    </footer>\n",
        "</body>\n",
        "</html>\n"
      ],
      "metadata": {
        "id": "gUvOHZiNZWzE"
      }
    },
    {
      "cell_type": "markdown",
      "source": [
        "# href\n",
        "\n",
        "O atributo `href` em HTML é utilizado em elementos como `<a>` (âncoras) e `<link>` (ligações) para especificar o destino do link. Ele contém o URL (endereço web) para o qual o link irá redirecionar quando clicado.\n",
        "\n",
        "- **`href` em Elementos `<a>` (Âncoras)**: No caso de âncoras, o `href` define para onde o link levará o usuário quando clicado. Pode ser um endereço de site, um link para outro arquivo, ou até mesmo um identificador em uma mesma página.\n",
        "\n",
        "- **`href` em Elementos `<link>` (Ligações)**: Para elementos `<link>`, o `href` é usado para especificar a localização de recursos externos, como folhas de estilo (CSS), ícones, ou outros arquivos que a página pode precisar.\n",
        "\n",
        "Exemplo de código HTML com o atributo `href` em um elemento `<a>`:\n",
        "\n",
        "```html\n",
        "<a href=\"https://www.exemplo.com\">Clique aqui para visitar o site de exemplo</a>\n",
        "````\n",
        "\n",
        "Neste exemplo, o href contém o URL \"https://www.exemplo.com\", o que significa que ao clicar no link, o navegador abrirá essa página.\n",
        "\n",
        "<link rel=\"stylesheet\" href=\"estilos.css\">\n",
        "\n",
        "Neste exemplo, o href contém o caminho para o arquivo \"estilos.css\", indicando que é a folha de estilos a ser utilizada pela página.\n",
        "\n",
        "```\n",
        "<link rel=\"stylesheet\" href=\"estilos.css\">\n",
        "```\n",
        "\n",
        "O href é um atributo fundamental para a navegação e a estruturação de uma página web, permitindo que os usuários acessem outras páginas ou recursos relevantes."
      ],
      "metadata": {
        "id": "XGInWGjgZ0db"
      }
    },
    {
      "cell_type": "markdown",
      "source": [
        "# src"
      ],
      "metadata": {
        "id": "69e92wvTbxOL"
      }
    },
    {
      "cell_type": "markdown",
      "source": [
        "O atributo `src` em HTML é utilizado para especificar a origem (source) de um recurso, como uma imagem, um vídeo, um áudio ou um script. Ele indica o caminho do arquivo que o elemento HTML deve carregar ou exibir.\n",
        "\n",
        "- **`src` para Elementos de Imagem `<img>`**: No caso de imagens, o atributo `src` define o caminho para o arquivo de imagem que será exibido na página. Pode ser um caminho local (relativo ao arquivo HTML) ou um URL para uma imagem na web.\n",
        "\n",
        "Exemplo de código HTML com o atributo `src` em um elemento `<img>`:\n",
        "\n",
        "```html\n",
        "<img src=\"caminho/para/imagem.jpg\" alt=\"Descrição da Imagem\">\n",
        "````\n",
        "Neste exemplo, o src contém o caminho para o arquivo de imagem \"imagem.jpg\", que será exibido na página.\n",
        "\n",
        "src para Elementos de Vídeo <video> e Áudio <audio>: Nestes elementos, o src indica o caminho para o arquivo de vídeo ou áudio que será reproduzido na página. Pode ser um arquivo local ou um URL de um arquivo na web.\n",
        "Exemplo de código HTML com o atributo src em um elemento <video>:\n",
        "\n",
        "\n",
        "\n",
        "```\n",
        "<video controls>\n",
        "    <source src=\"caminho/para/video.mp4\" type=\"video/mp4\">\n",
        "    Seu navegador não suporta o formato de vídeo.\n",
        "</video>\n",
        "\n",
        "```\n",
        "\n",
        "Neste exemplo, o src contém o caminho para o arquivo de vídeo \"video.mp4\" que será reproduzido na página.\n",
        "\n",
        "O src é um atributo essencial para carregar e exibir recursos de mídia em uma página web. Ele define o caminho para o arquivo que o navegador deve buscar e exibir ao renderizar a página."
      ],
      "metadata": {
        "id": "c__f01llbilS"
      }
    },
    {
      "cell_type": "markdown",
      "source": [
        "# Resumindo o HTML\n",
        "## Estrutura do HTML e Suas Tags\n",
        "Neste projeto, utilizamos `HTML (HyperText Markup Language)` para estruturar e organizar o conteúdo da página web. Abaixo está um resumo da explicação sobre algumas das principais tags HTML utilizadas:\n",
        "\n",
        "`<!DOCTYPE html>:` Esta declaração define o tipo de documento como HTML5, garantindo a compatibilidade com os padrões mais recentes da linguagem.\n",
        "\n",
        "`<html>:` A tag raiz que envolve todo o conteúdo da página.\n",
        "\n",
        "`<head>:` Esta seção contém informações sobre o documento, como metadados, links para folhas de estilo (CSS), scripts e outros elementos que não são diretamente visíveis na página.\n",
        "\n",
        "`<meta>:` Define metadados, como a codificação de caracteres e a descrição da página, para ajudar os motores de busca e navegadores a interpretar o conteúdo.\n",
        "\n",
        "`<title>:` Define o título da página, que é exibido na barra de título do navegador ou na guia.\n",
        "\n",
        "`<body>:` Contém o conteúdo principal da página visível para os usuários, como texto, imagens, links, formulários e outros elementos.\n",
        "\n",
        "Tags de Conteúdo `(<p>, <h1>, <ul>, <li>, etc.):` São usadas para estruturar o conteúdo da página, como parágrafos, títulos, listas, entre outros.\n",
        "\n",
        "`<img>:` Utilizada para exibir imagens na página. O atributo src especifica o caminho da imagem.\n",
        "\n",
        "`<a>: `Cria links para outras páginas ou recursos. O atributo href indica o destino do link.\n",
        "\n",
        "`<footer>:` Define a seção de rodapé da página, que geralmente contém informações adicionais, como links de contato, informações de copyright, entre outros."
      ],
      "metadata": {
        "id": "ClqsHF6xdNOy"
      }
    },
    {
      "cell_type": "code",
      "source": [],
      "metadata": {
        "id": "AKWY76TPdPjO"
      },
      "execution_count": null,
      "outputs": []
    }
  ]
}